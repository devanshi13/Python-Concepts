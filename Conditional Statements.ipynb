{
 "cells": [
  {
   "cell_type": "markdown",
   "metadata": {},
   "source": [
    "## **What are Conditional Statements?**\n",
    "\n",
    "- Decision making is required when we want to execute a code only if a certain condition is satisfied. In such cases, we use conditonal statements.\n",
    "\n",
    "- The if…elif…else statement is used in Python for decision making.\n",
    "\n",
    "- There are different variations of these statements that are used for different situations."
   ]
  },
  {
   "cell_type": "markdown",
   "metadata": {},
   "source": [
    "### **1. If statement** \n",
    "\n",
    "- Here, the program evaluates the test expression and will execute statement(s) only if the test expression is True.\n",
    "- In Python, the body of the if statement is indicated by the indentation.\n",
    "- For indentation, we use colons. After colons once you press enter, whitespace in next line indicates the indentation.\n",
    "\n",
    "<img src=\"https://cdn.programiz.com/sites/tutorial2program/files/Python_if_statement.jpg\" \n",
    "      alt=\"Markdown Monster icon\"\n",
    "     style=\"float: left; margin-right: 10px;\"/>"
   ]
  },
  {
   "cell_type": "markdown",
   "metadata": {},
   "source": [
    "#### **Syntax**\n",
    "\n",
    "    if test expression:\n",
    "        statement(s)"
   ]
  },
  {
   "cell_type": "code",
   "execution_count": 6,
   "metadata": {},
   "outputs": [
    {
     "name": "stdout",
     "output_type": "stream",
     "text": [
      "Enter a Number 42\n",
      "This is a positive number\n"
     ]
    }
   ],
   "source": [
    "num = int(input(\"Enter a Number \"))\n",
    "\n",
    "if num>0:\n",
    "    print(\"This is a positive number\")"
   ]
  },
  {
   "cell_type": "markdown",
   "metadata": {},
   "source": [
    "### **2. If else statement** \n",
    "\n",
    "- The if..else statement evaluates test expression and will execute the body of if only when the test condition is True.\n",
    "- If the condition is False, the body of else is executed. Indentation is used to separate the blocks.\n",
    "\n",
    "<img src=\"https://cdn.programiz.com/sites/tutorial2program/files/Python_if_else_statement.jpg\" \n",
    "      alt=\"Markdown Monster icon\"\n",
    "     style=\"float: left; margin-right: 10px;\"/>"
   ]
  },
  {
   "cell_type": "markdown",
   "metadata": {},
   "source": [
    "#### **Syntax**\n",
    "\n",
    "    if test expression:\n",
    "        statement(s)\n",
    "    else:\n",
    "        statement(s)"
   ]
  },
  {
   "cell_type": "code",
   "execution_count": 8,
   "metadata": {},
   "outputs": [
    {
     "name": "stdout",
     "output_type": "stream",
     "text": [
      "Enter a Number -32\n",
      "This is a negative number\n"
     ]
    }
   ],
   "source": [
    "num = int(input(\"Enter a Number \"))\n",
    "\n",
    "if num>0:\n",
    "    print(\"This is a positive number\")\n",
    "\n",
    "else:\n",
    "    print(\"This is a negative number\")"
   ]
  },
  {
   "cell_type": "markdown",
   "metadata": {},
   "source": [
    "### **3. If...elif...else statement** \n",
    "\n",
    "- The elif is short for else if. It allows us to check for multiple expressions.\n",
    "\n",
    "- If the condition for if is False, it checks the condition of the next elif block and so on.\n",
    "\n",
    "- If all the conditions are False, the body of else is executed.\n",
    "\n",
    "- Only one block among the several if...elif...else blocks is executed according to the condition.\n",
    "\n",
    "- The if block can have only one else block. But it can have multiple elif blocks.\n",
    "\n",
    "<img src=\"https://cdn.programiz.com/sites/tutorial2program/files/Python_if_elif_else_statement.jpg\" \n",
    "      alt=\"Markdown Monster icon\"\n",
    "     style=\"float: left; margin-right: 10px;\"/>"
   ]
  },
  {
   "cell_type": "markdown",
   "metadata": {},
   "source": [
    "#### **Syntax**\n",
    "\n",
    "    if test expression:\n",
    "        statement(s)\n",
    "    elif test expression:\n",
    "        statement(s)\n",
    "    else:\n",
    "        statement(s)"
   ]
  },
  {
   "cell_type": "code",
   "execution_count": 10,
   "metadata": {},
   "outputs": [
    {
     "name": "stdout",
     "output_type": "stream",
     "text": [
      "Enter a Number 0\n",
      "The number is equal to zero\n"
     ]
    }
   ],
   "source": [
    "num = int(input(\"Enter a Number \"))\n",
    "\n",
    "if num>0:\n",
    "    print(\"This is a positive number\")\n",
    "    \n",
    "elif num==0:\n",
    "    print(\"The number is equal to zero\")\n",
    "\n",
    "else:\n",
    "    print(\"This is a negative number\")"
   ]
  },
  {
   "cell_type": "markdown",
   "metadata": {},
   "source": [
    "### **4. Nested if statement** \n",
    "\n",
    "- We can have a if...elif...else statement inside another if...elif...else statement. \n",
    "- This is called nesting in computer programming.\n",
    "- Any number of these statements can be nested inside one another. Indentation is the only way to figure out the level of nesting. \n"
   ]
  },
  {
   "cell_type": "code",
   "execution_count": 12,
   "metadata": {},
   "outputs": [
    {
     "name": "stdout",
     "output_type": "stream",
     "text": [
      "Enter a number 32\n",
      "This is a positive even number\n"
     ]
    }
   ],
   "source": [
    "num = int(input(\"Enter a number \"))\n",
    "\n",
    "if num>0:\n",
    "    if num%2==0:\n",
    "        print(\"This is a positive even number\")\n",
    "    else:\n",
    "        print(\"This is a positive odd number\")\n",
    "        \n",
    "elif num==0:\n",
    "    print(\"This number is equal to zero\")\n",
    "    \n",
    "else:\n",
    "    print(\"This is a negative number\")"
   ]
  },
  {
   "cell_type": "markdown",
   "metadata": {},
   "source": [
    "### **Practise Questions**"
   ]
  },
  {
   "cell_type": "markdown",
   "metadata": {},
   "source": [
    "#### 1. Write a program to accept the cost price of a bike and display the road tax to be paid according to the following criteria :\n",
    "    \n",
    "|Cost price (in Rs)** |**Tax**|\n",
    "|---------------------|-------|\n",
    "|> 100000             | 15 %  |\n",
    "|> 50000 and <= 100000| 10%   |\n",
    "|<= 50000             | 5%    |"
   ]
  },
  {
   "cell_type": "code",
   "execution_count": 15,
   "metadata": {},
   "outputs": [
    {
     "name": "stdout",
     "output_type": "stream",
     "text": [
      "Enter cost price of bike : 800000\n",
      "Road Tax : 120000.0\n"
     ]
    }
   ],
   "source": [
    "cp = float(input(\"Enter cost price of bike : \"))\n",
    "\n",
    "if cp<=50000:\n",
    "    per = 5\n",
    "elif cp>50000 and cp<=100000:\n",
    "    per = 10\n",
    "else:\n",
    "    per = 15\n",
    "    \n",
    "tax = cp*(per/100)\n",
    "print(\"Road Tax :\", tax)"
   ]
  },
  {
   "cell_type": "markdown",
   "metadata": {},
   "source": [
    "#### **2. Accept the following from the user and calculate the percentage of class attended:**\n",
    "\n",
    "a. Total number of working days\n",
    "\n",
    "b. Total number of days for absent\n",
    "\n",
    "After calculating percentage show that, If the percentage is less than 75, than student will not be able to sit in exam."
   ]
  },
  {
   "cell_type": "code",
   "execution_count": 18,
   "metadata": {},
   "outputs": [
    {
     "name": "stdout",
     "output_type": "stream",
     "text": [
      "Enter total number of working days: 30\n",
      "Enter total number of absent days: 10\n",
      "\n",
      "Sorry! You are not eligible for exams.\n"
     ]
    }
   ],
   "source": [
    "work_days = int(input(\"Enter total number of working days: \"))\n",
    "absent_days = int(input(\"Enter total number of absent days: \"))\n",
    "\n",
    "attendance = (work_days-absent_days)/work_days\n",
    "\n",
    "if attendance>=75:\n",
    "    print(\"Congrats, you are eligible for exams!\")\n",
    "    \n",
    "else:\n",
    "    print(\"\\nSorry! You are not eligible for exams.\")"
   ]
  },
  {
   "cell_type": "markdown",
   "metadata": {},
   "source": [
    "#### **3. Find output of this program -**\n",
    "\n",
    "if i=3, j=5, k=7"
   ]
  },
  {
   "cell_type": "code",
   "execution_count": 20,
   "metadata": {},
   "outputs": [
    {
     "name": "stdout",
     "output_type": "stream",
     "text": [
      "i=3\n",
      "j=5\n",
      "k=7\n",
      "5 5 7\n"
     ]
    }
   ],
   "source": [
    "i = int(input(\"i=\"))\n",
    "j = int(input(\"j=\"))\n",
    "k = int(input(\"k=\"))\n",
    "\n",
    "if i<j:\n",
    "    if j<k:\n",
    "        i=j\n",
    "    else:\n",
    "        j=k\n",
    "        \n",
    "else:\n",
    "    if j>k:\n",
    "        j=i\n",
    "    else:\n",
    "        i=k\n",
    "        \n",
    "print(i,j,k)"
   ]
  },
  {
   "cell_type": "code",
   "execution_count": null,
   "metadata": {},
   "outputs": [],
   "source": []
  }
 ],
 "metadata": {
  "kernelspec": {
   "display_name": "Python 3",
   "language": "python",
   "name": "python3"
  },
  "language_info": {
   "codemirror_mode": {
    "name": "ipython",
    "version": 3
   },
   "file_extension": ".py",
   "mimetype": "text/x-python",
   "name": "python",
   "nbconvert_exporter": "python",
   "pygments_lexer": "ipython3",
   "version": "3.6.10"
  }
 },
 "nbformat": 4,
 "nbformat_minor": 4
}
